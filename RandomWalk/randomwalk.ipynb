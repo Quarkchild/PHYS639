{
 "cells": [
  {
   "cell_type": "code",
   "execution_count": 2,
   "metadata": {
    "scrolled": false
   },
   "outputs": [
    {
     "data": {
      "text/plain": [
       "[<matplotlib.lines.Line2D at 0x1de19c0a358>]"
      ]
     },
     "execution_count": 2,
     "metadata": {},
     "output_type": "execute_result"
    },
    {
     "data": {
      "image/png": "[encoded data removed]",
      "text/plain": [
       "<Figure size 432x288 with 1 Axes>"
      ]
     },
     "metadata": {},
     "output_type": "display_data"
    }
   ],
   "source": [
    "#created by Parker Stoops\n",
    "\n",
    "import numpy as np\n",
    "import numpy.random as random\n",
    "import matplotlib.pyplot as plt\n",
    "\n",
    "\n",
    "n = 100\n",
    "xlist = []\n",
    "steplist=[]\n",
    "for steps in range(100):\n",
    "    for j in range(100):\n",
    "        x=0\n",
    "        for i in range(steps):\n",
    "            randN=random.randint(0,2)\n",
    "            if(randN == 0):\n",
    "                x -= 1\n",
    "            if(randN == 1):\n",
    "                x += 1\n",
    "        xlist.append(np.abs(x))\n",
    "    steplist.append(np.mean(xlist))\n",
    "plt.plot(steplist)"
   ]
  },
  {
   "cell_type": "code",
   "execution_count": 3,
   "metadata": {},
   "outputs": [
    {
     "data": {
      "text/plain": [
       "[<matplotlib.lines.Line2D at 0x1de1a09eda0>]"
      ]
     },
     "execution_count": 3,
     "metadata": {},
     "output_type": "execute_result"
    },
    {
     "data": {
      "image/png": "[encoded data removed]",
      "text/plain": [
       "<Figure size 432x288 with 1 Axes>"
      ]
     },
     "metadata": {},
     "output_type": "display_data"
    }
   ],
   "source": [
    "import numpy as np\n",
    "import numpy.random as random\n",
    "import matplotlib.pyplot as plt\n",
    "\n",
    "\n",
    "n = 100\n",
    "xlist = []\n",
    "steplist=[]\n",
    "for steps in range(500):\n",
    "    for j in range(100):\n",
    "        x=0\n",
    "        for i in range(steps):\n",
    "            randN=random.randint(0,4)\n",
    "            if(randN == 0):\n",
    "                x -= 1\n",
    "            if(randN == 1,2,3):\n",
    "                x += 1\n",
    "        xlist.append(np.abs(x))\n",
    "    steplist.append(np.mean(xlist))\n",
    "plt.plot(steplist)"
   ]
  },
  {
   "cell_type": "code",
   "execution_count": 2,
   "metadata": {},
   "outputs": [
    {
     "data": {
      "text/plain": [
       "[<matplotlib.lines.Line2D at 0x1c419068ac8>]"
      ]
     },
     "execution_count": 2,
     "metadata": {},
     "output_type": "execute_result"
    },
    {
     "data": {
      "image/png": "[encoded data removed]",
      "text/plain": [
       "<Figure size 432x288 with 1 Axes>"
      ]
     },
     "metadata": {},
     "output_type": "display_data"
    }
   ],
   "source": [
    "import numpy as np\n",
    "import numpy.random as random\n",
    "import matplotlib.pyplot as plt\n",
    "\n",
    "\n",
    "n = 100\n",
    "xlist = []\n",
    "ylist = []\n",
    "zlist = []\n",
    "steplist=[]\n",
    "for steps in range(100):\n",
    "    for j in range(100):\n",
    "        x=0\n",
    "        y=0\n",
    "        z=0\n",
    "        for i in range(steps):\n",
    "            randN=random.randint(0,6)\n",
    "            if(randN == 0):\n",
    "                x -= 1\n",
    "                y += 0\n",
    "                z += 0\n",
    "            if(randN == 1):\n",
    "                x += 1\n",
    "                y += 0\n",
    "                z += 0\n",
    "            if(randN == 2):\n",
    "                x += 0\n",
    "                y -= 1\n",
    "                z += 0\n",
    "            if(randN == 3):\n",
    "                x += 0\n",
    "                y += 1\n",
    "                z += 0\n",
    "            if(randN == 4):\n",
    "                x += 0\n",
    "                y += 0\n",
    "                z -= 1\n",
    "            if(randN == 5):\n",
    "                x += 0\n",
    "                y += 0\n",
    "                z += 1\n",
    "        xlist.append(np.abs(np.sqrt(x**2+y**2+z**2)))\n",
    "    steplist.append(np.mean(xlist))\n",
    "plt.plot(steplist)"
   ]
  },
  {
   "cell_type": "code",
   "execution_count": null,
   "metadata": {},
   "outputs": [],
   "source": []
  }
 ],
 "metadata": {
  "kernelspec": {
   "display_name": "Python 3",
   "language": "python",
   "name": "python3"
  },
  "language_info": {
   "codemirror_mode": {
    "name": "ipython",
    "version": 3
   },
   "file_extension": ".py",
   "mimetype": "text/x-python",
   "name": "python",
   "nbconvert_exporter": "python",
   "pygments_lexer": "ipython3",
   "version": "3.6.5"
  }
 },
 "nbformat": 4,
 "nbformat_minor": 2
}
