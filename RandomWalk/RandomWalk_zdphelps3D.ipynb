{
 "cells": [
  {
   "cell_type": "code",
   "execution_count": 4,
   "metadata": {},
   "outputs": [
    {
     "name": "stdout",
     "output_type": "stream",
     "text": [
      "8.93687247121154\n",
      "-11.200925351756652\n",
      "-3.3307889751895146\n"
     ]
    }
   ],
   "source": [
    "import numpy as np\n",
    "import numpy.random as random\n",
    "import matplotlib.pyplot as plt\n",
    "%matplotlib inline\n",
    "\n",
    "#Functions that convert spherical coordinates into cartesian\n",
    "def Cartesian_x(r,theta,phi):\n",
    "    x = r*np.cos(theta)*np.sin(phi)\n",
    "    return x\n",
    "def Cartesian_y(r,theta,phi):\n",
    "    y = r*np.sin(theta)*np.sin(phi)\n",
    "    return y\n",
    "def Cartesian_z(r,phi):\n",
    "    z = r*np.cos(phi)\n",
    "    return z\n",
    "#initial conditions\n",
    "pi = 3.1415926\n",
    "Xo = 0.0\n",
    "Yo = 0.0\n",
    "Zo = 0.0\n",
    "\n",
    "Totalx = 0\n",
    "Totaly = 0\n",
    "Totalz = 0\n",
    "\n",
    "#cartesian position arrays\n",
    "x_array = np.array([Xo])\n",
    "y_array = np.array([Yo])\n",
    "z_array = np.array([Zo])\n",
    "\n",
    "#loop through random motion in radial direction\n",
    "for i in range(100):\n",
    "    r = 1.0\n",
    "    #random values\n",
    "    u = random.rand(1)\n",
    "    v = random.rand(1)\n",
    "    #range for phi and theta\n",
    "    Theta = 2*pi*u\n",
    "    Phi = np.arccos(2*v-1)\n",
    "    #convert to cartesian coordinates\n",
    "    x = Cartesian_x(r,Theta,Phi)\n",
    "    y = Cartesian_y(r,Theta,Phi)\n",
    "    z = Cartesian_z(r,Phi)\n",
    "    #appends value to cartesian array\n",
    "    x_array = np.append(x_array,x)\n",
    "    y_array = np.append(y_array,y)\n",
    "    z_array = np.append(z_array,z)\n",
    "#adds the contents of the motion array\n",
    "X = np.sum(x_array)\n",
    "Y = np.sum(y_array)\n",
    "Z = np.sum(z_array)\n",
    "#prints values\n",
    "print(X)\n",
    "print(Y)\n",
    "print(Z)"
   ]
  },
  {
   "cell_type": "code",
   "execution_count": null,
   "metadata": {},
   "outputs": [],
   "source": []
  },
  {
   "cell_type": "code",
   "execution_count": null,
   "metadata": {},
   "outputs": [],
   "source": []
  }
 ],
 "metadata": {
  "kernelspec": {
   "display_name": "Python 3",
   "language": "python",
   "name": "python3"
  },
  "language_info": {
   "codemirror_mode": {
    "name": "ipython",
    "version": 3
   },
   "file_extension": ".py",
   "mimetype": "text/x-python",
   "name": "python",
   "nbconvert_exporter": "python",
   "pygments_lexer": "ipython3",
   "version": "3.6.5"
  }
 },
 "nbformat": 4,
 "nbformat_minor": 2
}
