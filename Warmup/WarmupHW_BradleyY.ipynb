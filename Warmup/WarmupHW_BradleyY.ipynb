{
 "cells": [
  {
   "cell_type": "code",
   "execution_count": 2,
   "metadata": {},
   "outputs": [],
   "source": [
    "#Author: Bradley Young\n",
    "# Warm up HW\n",
    "import numpy as np\n",
    "import matplotlib.pyplot as plt\n",
    "%matplotlib inline"
   ]
  },
  {
   "cell_type": "code",
   "execution_count": 4,
   "metadata": {},
   "outputs": [],
   "source": [
    "#Problem (*), Radioactive Decay\n",
    "#Solve the Differential Equation (dN/dt=-N/tau) Numerically\n",
    "#Initial Conditions\n",
    "\n",
    "#N0= 10 #Initial Number of U235 Atoms\n",
    "#tau=703.8 #Halflife of U235\n",
    "#t0= 0.0 #Initial time\n",
    "#tfin= 10.0*tau #Final time\n",
    "#Nsteps= 10000 #Number of times the loop repeats itself"
   ]
  },
  {
   "cell_type": "code",
   "execution_count": 5,
   "metadata": {},
   "outputs": [],
   "source": [
    "#t= np.linspace(t0,tfin,Nsteps+1) #Time array\n",
    "#N= np.zeros(Nsteps+1) #Creating N array of Nsteps and making each element zero\n",
    "#N[0]=N0 #The first element of array N is the intial number of U235 atoms\n",
    "#dt=(tfin-t0)/Nsteps #Defining the increment of time"
   ]
  },
  {
   "cell_type": "code",
   "execution_count": 6,
   "metadata": {},
   "outputs": [],
   "source": [
    "#for i in range(1,Nsteps): #Loop: An array of integers from the first element to Nsteps\n",
    "    #dN= -N[i-1]/tau #Differential element of N,\n",
    "    #N[i]= N[i-1]+dN*dt #Iteration funtion. For next elememt i, take previous element and add next differential\n",
    "    \n",
    "    "
   ]
  },
  {
   "cell_type": "code",
   "execution_count": 7,
   "metadata": {},
   "outputs": [
    {
     "data": {
      "text/plain": [
       "Text(0,0.5,'Number of U235 Atoms')"
      ]
     },
     "execution_count": 7,
     "metadata": {},
     "output_type": "execute_result"
    },
    {
     "data": {
      "image/png": "[encoded data removed]",
      "text/plain": [
       "<Figure size 432x288 with 1 Axes>"
      ]
     },
     "metadata": {},
     "output_type": "display_data"
    }
   ],
   "source": [
    "#plt.plot(t,N,'go') #Our Numerical Solution\n",
    "#plt.plot(t,N0*np.exp(-t/tau),'y-') #Our Expected Solution\n",
    "#plt.xlabel('Time in Years')\n",
    "#plt.ylabel('Number of U235 Atoms')"
   ]
  },
  {
   "cell_type": "code",
   "execution_count": 78,
   "metadata": {},
   "outputs": [],
   "source": [
    "#Problem (**) Population Of Rodents\n",
    "#Solve the Differential Equaion (dN/dt=aN-bN**2) Numerically\n",
    "\n",
    "#Initial Conditions\n",
    "N0= 10 #Initial Number of Rodents\n",
    "a=1.0 #Births\n",
    "b=2.0 #Deaths\n",
    "t0=0.0\n",
    "tfin=10 #days\n",
    "Nsteps=10000 "
   ]
  },
  {
   "cell_type": "code",
   "execution_count": 77,
   "metadata": {},
   "outputs": [],
   "source": [
    "t= np.linspace(t0,tfin,Nsteps) #Time array\n",
    "N= np.zeros(Nsteps) #Creating N array of Nsteps and making each element zero\n",
    "N[0]=N0 #The first element of array N is the intial number of U235 atoms\n",
    "dt=(tfin-t0)/Nsteps #Defining the increment of time"
   ]
  },
  {
   "cell_type": "code",
   "execution_count": 79,
   "metadata": {},
   "outputs": [],
   "source": [
    "for i in range(1,Nsteps): #Loop: An array of integers from the first element to Nsteps\n",
    "    dN= a*N[i-1]-(b*(N[i-1]**2)) #Differential element of N,\n",
    "    N[i]= N[i-1]+dN*dt #Iteration funtion. For next elememt i, take previous element and add next differential\n",
    "    "
   ]
  },
  {
   "cell_type": "code",
   "execution_count": 80,
   "metadata": {},
   "outputs": [
    {
     "data": {
      "text/plain": [
       "Text(0,0.5,'Number of Specimens')"
      ]
     },
     "execution_count": 80,
     "metadata": {},
     "output_type": "execute_result"
    },
    {
     "data": {
      "image/png": "[encoded data removed]",
      "text/plain": [
       "<Figure size 432x288 with 1 Axes>"
      ]
     },
     "metadata": {},
     "output_type": "display_data"
    }
   ],
   "source": [
    "plt.plot(t,N,'go')\n",
    "plt.xlabel('Time in days')\n",
    "plt.ylabel('Number of Specimens')"
   ]
  },
  {
   "cell_type": "code",
   "execution_count": null,
   "metadata": {},
   "outputs": [],
   "source": [
    "#The Numerical Solution seems to be correct given when a=1,b=0 our graph gives an exponential funtion\n",
    "#When a=0,b=1 our graph gives a 1/N^2 funtion\n",
    "#The results indicate that our population model is a working one"
   ]
  }
 ],
 "metadata": {
  "kernelspec": {
   "display_name": "Python 3",
   "language": "python",
   "name": "python3"
  },
  "language_info": {
   "codemirror_mode": {
    "name": "ipython",
    "version": 3
   },
   "file_extension": ".py",
   "mimetype": "text/x-python",
   "name": "python",
   "nbconvert_exporter": "python",
   "pygments_lexer": "ipython3",
   "version": "3.6.5"
  }
 },
 "nbformat": 4,
 "nbformat_minor": 2
}
