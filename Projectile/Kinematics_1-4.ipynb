{
 "cells": [
  {
   "cell_type": "code",
   "execution_count": 9,
   "metadata": {},
   "outputs": [
    {
     "data": {
      "text/plain": [
       "Text(0,0.5,'vertical distance')"
      ]
     },
     "execution_count": 9,
     "metadata": {},
     "output_type": "execute_result"
    },
    {
     "data": {
      "image/png": "[encoded data removed]",
      "text/plain": [
       "<Figure size 432x288 with 1 Axes>"
      ]
     },
     "metadata": {},
     "output_type": "display_data"
    }
   ],
   "source": [
    "import numpy as np\n",
    "import matplotlib.pyplot as plt\n",
    "\n",
    "#Function that takes in launch coordinates and target coordinates and returns the \n",
    "# x vs y plot as well as velocity and angle of projectile\n",
    "\n",
    "    \n",
    "#Initial Conditions\n",
    "Vo = 100.0\n",
    "x = 0.0\n",
    "y = 0.0    \n",
    "t = 0.0\n",
    "Theta = np.deg2rad(45)\n",
    "RadiusEarth = 6371000.0\n",
    "\n",
    "#Functions that give x and y components of velocity\n",
    "def V_x(Vel,Ang):\n",
    "    Vx = Vel*np.cos(Ang)\n",
    "    return Vx\n",
    "def V_y(Vel,Ang):\n",
    "    Vy = Vel*np.sin(Ang)\n",
    "    return Vy\n",
    "#function that gives variable air resistance\n",
    "def Drag(Vx,Vy):\n",
    "    d = -0.0004*(Vx**2 + Vy**2)\n",
    "    return d\n",
    "#function that gives variable gravity\n",
    "def VarGravity(Re,y,ay):\n",
    "    Ay = ay*((Re)**2/((Re+y)**2))\n",
    "    return Ay\n",
    "\n",
    "#Set up time interval\n",
    "dt = .001\n",
    "    \n",
    "#initialize velocity x/y components\n",
    "Vx = V_x(Vo,Theta)\n",
    "Vy = V_y(Vo,Theta)\n",
    "\n",
    "#creating arrays\n",
    "x_array = np.array([x])\n",
    "y_array = np.array([y])\n",
    "    \n",
    "#Assigns trajectory parameters to variables\n",
    "AddDrag = True\n",
    "AddGravity = True\n",
    "\n",
    "#Loop\n",
    "while y >= 0:\n",
    "    #initialize acceleration\n",
    "    Ax = 0.0\n",
    "    Ay = -9.8\n",
    "    Ag = Ay\n",
    "    #Changing Gravity with Altitude\n",
    "    if AddGravity == True:\n",
    "        Ay = VarGravity(RadiusEarth,y,Ag)\n",
    "    #Air Resistance\n",
    "    if AddDrag == True:\n",
    "        D = Drag(Vx,Vy)\n",
    "        CosTheta = Vx/np.sqrt(Vx**2 + Vy**2)\n",
    "        SinTheta = Vy/np.sqrt(Vx**2 + Vy**2)\n",
    "        Dx = D*CosTheta\n",
    "        Dy = D*SinTheta\n",
    "        Ax = Ax + Dx\n",
    "        Ay = Ay + Dy\n",
    "    #Updating Distances, Velocities and Time\n",
    "    x = x + Vx*dt\n",
    "    y = y + Vy*dt\n",
    "    Vx = Vx + Ax*dt\n",
    "    Vy = Vy + Ay*dt\n",
    "    t = t + dt\n",
    "    #Appending values to array\n",
    "    x_array = np.append(x_array,x)\n",
    "    y_array = np.append(y_array,y)\n",
    "        \n",
    "plt.figure()\n",
    "plt.plot(x_array,y_array)\n",
    "plt.xlabel('horizontal distance')\n",
    "plt.ylabel('vertical distance')\n",
    "\n"
   ]
  },
  {
   "cell_type": "code",
   "execution_count": null,
   "metadata": {},
   "outputs": [],
   "source": []
  },
  {
   "cell_type": "code",
   "execution_count": null,
   "metadata": {},
   "outputs": [],
   "source": []
  },
  {
   "cell_type": "code",
   "execution_count": null,
   "metadata": {},
   "outputs": [],
   "source": []
  },
  {
   "cell_type": "code",
   "execution_count": null,
   "metadata": {},
   "outputs": [],
   "source": []
  }
 ],
 "metadata": {
  "kernelspec": {
   "display_name": "Python 3",
   "language": "python",
   "name": "python3"
  },
  "language_info": {
   "codemirror_mode": {
    "name": "ipython",
    "version": 3
   },
   "file_extension": ".py",
   "mimetype": "text/x-python",
   "name": "python",
   "nbconvert_exporter": "python",
   "pygments_lexer": "ipython3",
   "version": "3.6.5"
  }
 },
 "nbformat": 4,
 "nbformat_minor": 2
}
