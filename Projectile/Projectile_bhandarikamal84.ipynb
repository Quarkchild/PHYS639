{
 "cells": [
  {
   "cell_type": "code",
   "execution_count": 5,
   "metadata": {},
   "outputs": [],
   "source": [
    "#PROBLEM1:SIMPLE PROJECTILE MOTION\n",
    "\n",
    "import math\n",
    "import numpy as np\n",
    "import matplotlib.pyplot as plt\n",
    "%matplotlib inline\n",
    "# Define function with different parameters\n",
    "def f(X0,Y0,V0,theta0,g):  \n",
    "    tini=0\n",
    "    tmax=20\n",
    "    t=np.linspace(tini,tmax,50)\n",
    "    X=np.zeros(50)\n",
    "    Y=np.zeros(50)\n",
    "    VX=np.zeros(50)\n",
    "    VY=np.zeros(50)\n",
    "    FdmX=np.zeros(50)\n",
    "    FdmY=np.zeros(50)\n",
    "    dt=(tmax-tini)/50\n",
    "    #initial Conditions\n",
    "    X[0]=X0\n",
    "    Y[0]=Y0\n",
    "    theta=np.deg2rad(theta0)\n",
    "    VX[0]=V0* math.cos(theta)\n",
    "    VY[0]=V0* math.sin(theta)\n",
    "\n",
    "    for i in range(1,51):\n",
    "        VX[i]=VX[i-1]\n",
    "        VY[i]=VY[i-1]+ g *dt \n",
    "        X[i]=X[i-1]+ VX[i-1]*dt\n",
    "        Y[i]=Y[i-1]+ VY[i-1]*dt  \n",
    "       \n",
    "        if Y[i]<0.001:\n",
    "            VX[i]= VX[i-1]\n",
    "            VY[i]=0\n",
    "            X[i]= X[i-1]+ VX[i-1]*dt\n",
    "            Y[i]=0\n",
    "            break\n",
    "        \n",
    "    print('Horizontal range:  ', np.max(X),'meters')\n",
    "    plt.plot(X[:len(Y[np.nonzero(Y)])],Y[np.nonzero(Y)])\n",
    "    plt.xlabel('X')\n",
    "    plt.ylabel('Y');\n",
    "    \n",
    "    \n",
    "\n"
   ]
  },
  {
   "cell_type": "code",
   "execution_count": 6,
   "metadata": {},
   "outputs": [
    {
     "name": "stdout",
     "output_type": "stream",
     "text": [
      "Horizontal range:   1046.5180361560904 meters\n"
     ]
    },
    {
     "data": {
      "image/png": "[encoded data removed]",
      "text/plain": [
       "<Figure size 432x288 with 1 Axes>"
      ]
     },
     "metadata": {},
     "output_type": "display_data"
    }
   ],
   "source": [
    "f(0,0,100,45,-10)"
   ]
  },
  {
   "cell_type": "code",
   "execution_count": 7,
   "metadata": {},
   "outputs": [],
   "source": [
    "#PROBLEM2:AIR RESISTANCE\n",
    "\n",
    "\n",
    "import math\n",
    "import numpy as np\n",
    "import matplotlib.pyplot as plt\n",
    "%matplotlib inline\n",
    "#Define function with different parameters\n",
    "def f(X0,Y0,V0,theta0,g):\n",
    "    tini=0\n",
    "    tmax=20\n",
    "    t=np.linspace(tini,tmax,50)\n",
    "    X=np.zeros(50)\n",
    "    Y=np.zeros(50)\n",
    "    VX=np.zeros(50)\n",
    "    VY=np.zeros(50)\n",
    "    FdmX=np.zeros(50)\n",
    "    FdmY=np.zeros(50)\n",
    "    dt=(tmax-tini)/50\n",
    "    #initial conditions\n",
    "    X[0]=X0\n",
    "    Y[0]=Y0\n",
    "    theta=np.deg2rad(theta0)\n",
    "    VX[0]=V0* math.cos(theta)\n",
    "    VY[0]=V0* math.sin(theta)\n",
    "\n",
    "    for i in range(1,51):\n",
    "        #Define drag force\n",
    "        FdmX[i]=-0.00004*VX[i-1]*VX[i-1]\n",
    "        FdmY[i]=-0.00004*VY[i-1]*VY[i-1]\n",
    "        VX[i]=VX[i-1]+ FdmX[i] *dt\n",
    "        VY[i]=VY[i-1]+ g*dt + FdmY[i] *dt\n",
    "        X[i]=X[i-1]+ VX[i]*dt\n",
    "        Y[i]=Y[i-1]+ VY[i]*dt  \n",
    "       \n",
    "        if Y[i]<0.001:\n",
    "            VX[i]= VX[i-1]+ FdmX[i] *dt\n",
    "            VY[i]=0\n",
    "            X[i]=X[i-1]+ VX[i-1]*dt\n",
    "            Y[i]=0\n",
    "            break\n",
    "            \n",
    "    print('Horizontal range:  ', np.max(X),'meters')\n",
    "    plt.plot(X[:len(Y[np.nonzero(Y)])],Y[np.nonzero(Y)])\n",
    "    plt.xlabel('X')\n",
    "    plt.ylabel('Y');\n",
    "    "
   ]
  },
  {
   "cell_type": "code",
   "execution_count": 8,
   "metadata": {},
   "outputs": [
    {
     "name": "stdout",
     "output_type": "stream",
     "text": [
      "Horizontal range:   970.3218197646282 meters\n"
     ]
    },
    {
     "data": {
      "image/png": "[encoded data removed]",
      "text/plain": [
       "<Figure size 432x288 with 1 Axes>"
      ]
     },
     "metadata": {},
     "output_type": "display_data"
    }
   ],
   "source": [
    "f(0,0,100,45,-10)"
   ]
  },
  {
   "cell_type": "code",
   "execution_count": 9,
   "metadata": {},
   "outputs": [],
   "source": [
    "#PROBLEM3: CHANGING AIR RESISTANCE\n",
    "\n",
    "import math\n",
    "import numpy as np\n",
    "import matplotlib.pyplot as plt\n",
    "%matplotlib inline\n",
    "#Define function with different parameter\n",
    "def f(X0,Y0,V0,theta0,g):\n",
    "    tini=0\n",
    "    tmax=20\n",
    "    t=np.linspace(tini,tmax,50)\n",
    "    X=np.zeros(50)\n",
    "    Y=np.zeros(50)\n",
    "    VX=np.zeros(50)\n",
    "    VY=np.zeros(50)\n",
    "    FdmX=np.zeros(50)\n",
    "    FdmY=np.zeros(50)\n",
    "    dt=(tmax-tini)/50\n",
    "    #initial conditions\n",
    "    X[0]=X0\n",
    "    Y[0]=Y0\n",
    "    theta=np.deg2rad(theta0)\n",
    "    VX[0]=V0* math.cos(theta)\n",
    "    VY[0]=V0* math.sin(theta)\n",
    "\n",
    "    for i in range(1,51):\n",
    "        #Define drag force considering density of air dropping with altitude\n",
    "        FdmX[i]=-0.00004*VX[i-1]*VX[i-1]*(1-2.2*10**(-5)*Y[i-1])**(5/2)\n",
    "        FdmY[i]=-0.00004*VY[i-1]*VY[i-1]*(1-2.2*10**(-5)*Y[i-1])**(5/2)\n",
    "        VX[i]=VX[i-1]+ FdmX[i] *dt\n",
    "        VY[i]=VY[i-1]+ g*dt + FdmY[i] *dt\n",
    "        X[i]=X[i-1]+ VX[i]*dt\n",
    "        Y[i]=Y[i-1]+ VY[i]*dt  \n",
    "       \n",
    "        if Y[i]<0.001:\n",
    "            VX[i]= VX[i-1]+ FdmX[i] *dt\n",
    "            VY[i]=0\n",
    "            X[i]=X[i-1]+ VX[i-1]*dt\n",
    "            Y[i]=0\n",
    "            break\n",
    "            \n",
    "    print('Horizontal range:  ', np.max(X),'meters')\n",
    "    plt.plot(X[:len(Y[np.nonzero(Y)])],Y[np.nonzero(Y)])\n",
    "    plt.xlabel('X')\n",
    "    plt.ylabel('Y');\n",
    "    "
   ]
  },
  {
   "cell_type": "code",
   "execution_count": 10,
   "metadata": {},
   "outputs": [
    {
     "name": "stdout",
     "output_type": "stream",
     "text": [
      "Horizontal range:   970.4803022924998 meters\n"
     ]
    },
    {
     "data": {
      "image/png": "[encoded data removed]",
      "text/plain": [
       "<Figure size 432x288 with 1 Axes>"
      ]
     },
     "metadata": {},
     "output_type": "display_data"
    }
   ],
   "source": [
    "f(0,0,100,45,-10)"
   ]
  },
  {
   "cell_type": "code",
   "execution_count": 11,
   "metadata": {},
   "outputs": [],
   "source": [
    "#PROBLEM4: CHANGING GRAVITY\n",
    "\n",
    "import math\n",
    "import numpy as np\n",
    "import matplotlib.pyplot as plt\n",
    "%matplotlib inline\n",
    "#Define function with different parameters\n",
    "def f(X0,Y0,V0,theta0,g):\n",
    "    #Define radius of Earth in meters\n",
    "    R=6400000\n",
    "    tini=0\n",
    "    tmax=20\n",
    "    t=np.linspace(tini,tmax,50)\n",
    "    X=np.zeros(50)\n",
    "    Y=np.zeros(50)\n",
    "    VX=np.zeros(50)\n",
    "    VY=np.zeros(50)\n",
    "    FdmX=np.zeros(50)\n",
    "    FdmY=np.zeros(50)\n",
    "    dt=(tmax-tini)/50\n",
    "    #initial conditions\n",
    "    X[0]=X0\n",
    "    Y[0]=Y0\n",
    "    theta=np.deg2rad(theta0)\n",
    "    VX[0]=V0* math.cos(theta)\n",
    "    VY[0]=V0* math.sin(theta)\n",
    "\n",
    "    for i in range(1,51):\n",
    "        #Define drag force considering density of air dropping with altitude\n",
    "        FdmX[i]=-0.00004*VX[i-1]*VX[i-1]*(1-2.2*10**(-5)*Y[i-1])**(5/2)\n",
    "        FdmY[i]=-0.00004*VY[i-1]*VY[i-1]*(1-2.2*10**(-5)*Y[i-1])**(5/2)\n",
    "        VX[i]=VX[i-1]+ FdmX[i] *dt\n",
    "        #Gravity changes with altitude by inverse square law\n",
    "        VY[i]=VY[i-1]+ g*(R*R/(R*R+Y[i-1]*Y[i-1]))*dt + FdmY[i] *dt\n",
    "        X[i]=X[i-1]+ VX[i]*dt\n",
    "        Y[i]=Y[i-1]+ VY[i]*dt  \n",
    "       \n",
    "        if Y[i]<0.001:\n",
    "            VX[i]= VX[i-1]+ FdmX[i] *dt\n",
    "            VY[i]=0\n",
    "            X[i]=X[i-1]+ VX[i-1]*dt\n",
    "            Y[i]=0\n",
    "            break\n",
    "            \n",
    "    print('Horizontal range:  ', np.max(X),'meters')\n",
    "    plt.plot(X[:len(Y[np.nonzero(Y)])],Y[np.nonzero(Y)])\n",
    "    plt.xlabel('X')\n",
    "    plt.ylabel('Y');\n",
    "    "
   ]
  },
  {
   "cell_type": "code",
   "execution_count": 12,
   "metadata": {},
   "outputs": [
    {
     "name": "stdout",
     "output_type": "stream",
     "text": [
      "Horizontal range:   970.4803022925834 meters\n"
     ]
    },
    {
     "data": {
      "image/png": "[encoded data removed]",
      "text/plain": [
       "<Figure size 432x288 with 1 Axes>"
      ]
     },
     "metadata": {},
     "output_type": "display_data"
    }
   ],
   "source": [
    "f(0,0,100,45,-10)"
   ]
  }
 ],
 "metadata": {
  "kernelspec": {
   "display_name": "Python 3",
   "language": "python",
   "name": "python3"
  },
  "language_info": {
   "codemirror_mode": {
    "name": "ipython",
    "version": 3
   },
   "file_extension": ".py",
   "mimetype": "text/x-python",
   "name": "python",
   "nbconvert_exporter": "python",
   "pygments_lexer": "ipython3",
   "version": "3.6.5"
  }
 },
 "nbformat": 4,
 "nbformat_minor": 2
}
