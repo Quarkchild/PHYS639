{
 "cells": [
  {
   "cell_type": "code",
   "execution_count": 16,
   "metadata": {},
   "outputs": [],
   "source": [
    "import numpy as np\n",
    "import matplotlib.pyplot as plt\n",
    "%matplotlib inline"
   ]
  },
  {
   "cell_type": "code",
   "execution_count": 17,
   "metadata": {},
   "outputs": [],
   "source": [
    "# Initial conditions\n",
    "t = 0\n",
    "x = 0\n",
    "y = 0\n",
    "v = 100 # In m/s\n",
    "theta = np.deg2rad(45) # Degrees converted to radians\n",
    "vx = v*np.cos(theta)\n",
    "vy = v*np.sin(theta)\n",
    "# Time step in seconds\n",
    "dt = 0.01\n",
    "# Let's savey all x and y values in an array\n",
    "x_array = np.array([x])\n",
    "y_array = np.array([y])"
   ]
  },
  {
   "cell_type": "code",
   "execution_count": 18,
   "metadata": {},
   "outputs": [],
   "source": [
    "# Evolve the projectile in time until it hits the ground\n",
    "while y >= 0:\n",
    "    ax = 0 # No acceleration in x\n",
    "    ay = -9.8 # Gravity\n",
    "    x = x + vx*dt\n",
    "    y = y + vy*dt\n",
    "    vx = vx + ax*dt\n",
    "    vy = vy + ay*dt\n",
    "    t = t + dt\n",
    "    # Append new value to the array\n",
    "    x_array = np.append(x_array,x)\n",
    "    y_array = np.append(y_array,y)"
   ]
  },
  {
   "cell_type": "code",
   "execution_count": 35,
   "metadata": {},
   "outputs": [
    {
     "data": {
      "text/plain": [
       "Text(0,0.5,u'Altitude (m)')"
      ]
     },
     "execution_count": 35,
     "metadata": {},
     "output_type": "execute_result"
    },
    {
     "data": {
      "image/png": "[encoded data removed]",
      "text/plain": [
       "<matplotlib.figure.Figure at 0xa5a2ef0>"
      ]
     },
     "metadata": {},
     "output_type": "display_data"
    }
   ],
   "source": [
    "# Plot the trajectory\n",
    "plt.plot(x_array,y_array,label='No drag')\n",
    "plt.legend()\n",
    "plt.xlabel('Displacement (m)')\n",
    "plt.ylabel('Altitude (m)')"
   ]
  },
  {
   "cell_type": "code",
   "execution_count": 26,
   "metadata": {},
   "outputs": [
    {
     "name": "stdout",
     "output_type": "stream",
     "text": [
      "('Horizontal range is:', 1021.7692988145687, 'meters')\n",
      "('Maximum altitude reached is:', 255.45571601668962, 'meters')\n",
      "('Time in air is:', 14.449999999999736, 'seconds')\n"
     ]
    }
   ],
   "source": [
    "# Print some info\n",
    "# Only print 5 significant figures\n",
    "print('Horizontal range is:', np.max(x_array), 'meters')\n",
    "print('Maximum altitude reached is:', np.max(y_array), 'meters')\n",
    "print('Time in the air is:', t, 'seconds')"
   ]
  }
 ],
 "metadata": {
  "kernelspec": {
   "display_name": "Python 2",
   "language": "python",
   "name": "python2"
  },
  "language_info": {
   "codemirror_mode": {
    "name": "ipython",
    "version": 2
   },
   "file_extension": ".py",
   "mimetype": "text/x-python",
   "name": "python",
   "nbconvert_exporter": "python",
   "pygments_lexer": "ipython2",
   "version": "2.7.14"
  }
 },
 "nbformat": 4,
 "nbformat_minor": 2
}
