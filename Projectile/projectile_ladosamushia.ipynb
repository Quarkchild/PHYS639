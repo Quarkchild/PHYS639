{
 "cells": [
  {
   "cell_type": "code",
   "execution_count": 30,
   "metadata": {},
   "outputs": [
    {
     "name": "stdout",
     "output_type": "stream",
     "text": [
      "('velocity is:', 110)\n",
      "('angle is:', 58.18181818181818)\n"
     ]
    },
    {
     "data": {
      "text/plain": [
       "[<matplotlib.lines.Line2D at 0xcafc978>]"
      ]
     },
     "execution_count": 30,
     "metadata": {},
     "output_type": "execute_result"
    },
    {
     "data": {
      "image/png": "[encoded data removed]",
      "text/plain": [
       "<matplotlib.figure.Figure at 0x8fa8160>"
      ]
     },
     "metadata": {},
     "output_type": "display_data"
    }
   ],
   "source": [
    "import numpy as np\n",
    "import matplotlib.pyplot as plt\n",
    "%matplotlib inline\n",
    "\n",
    "# A function that returns trajectory of a projectile\n",
    "# given initial velocity - v and angle - theta in degrees.\n",
    "# Returns matching arrays x_coord, and y_coord.\n",
    "# wantdrag = False if you want to artificially switch of the drag force, otherwise wantdrag = True\n",
    "# changingG = Flase if you want to switch of changing of g value with altitude, otherwise changingG = True\n",
    "def projectile(v, theta, wantdrag,changingG):\n",
    "    # Physical constants in meters\n",
    "    Rearth = 6371000\n",
    "    # Initial conditions\n",
    "    t = 0\n",
    "    x = 0\n",
    "    y = 0\n",
    "    theta = np.deg2rad(theta) # Degrees converted to radians\n",
    "    vx = v*np.cos(theta)\n",
    "    vy = v*np.sin(theta)\n",
    "    # Time step in seconds\n",
    "    dt = 0.01\n",
    "    # Let's savey all x and y values in an array\n",
    "    x_array = np.array([x])\n",
    "    y_array = np.array([y])\n",
    "\n",
    "    # Evolve the projectile in time until it hits the ground\n",
    "    while y >= 0:\n",
    "        # Gravity\n",
    "        ax = 0 # No acceleration in x\n",
    "        ay = -9.8 # g in m/s^2\n",
    "        # Changing gravity with altitude. Only compute if user requests\n",
    "        if changingG == True:\n",
    "            ay *= (Rearth)**2/(Rearth + y)**2\n",
    "        # Drag. Only compute if user requests\n",
    "        if wantdrag == True:\n",
    "            ad = -0.0004*(vx**2 + vy**2)\n",
    "            costheta = vx/np.sqrt(vx**2 + vy**2)\n",
    "            sintheta = vy/np.sqrt(vx**2 + vy**2)\n",
    "            adx = ad*costheta\n",
    "            ady = ad*sintheta\n",
    "            ax += adx\n",
    "            ay += ady\n",
    "        # Now evolve\n",
    "        x = x + vx*dt\n",
    "        y = y + vy*dt\n",
    "        vx = vx + ax*dt\n",
    "        vy = vy + ay*dt\n",
    "        t = t + dt\n",
    "        # Append new value to the array\n",
    "        x_array = np.append(x_array,x)\n",
    "        y_array = np.append(y_array,y)\n",
    "    \n",
    "    # Print some info\n",
    "    # print('Horizontal range is:', np.max(x_array), 'meters')\n",
    "    # print('Maximum altitude reached is:', np.max(y_array), 'meters')\n",
    "    # print('Time in the air is:', t, 'seconds')\n",
    "    \n",
    "    return [x_array, y_array]\n",
    "\n",
    "# ===================================\n",
    "# This is how you use the function\n",
    "# ===================================\n",
    "# [x1,y1] = projectile(2000,80,False,False)\n",
    "# [x2,y2] = projectile(2000,80,False,True)\n",
    "# ====================================\n",
    "# This is how you plot the trajectory\n",
    "# ====================================\n",
    "# plt.plot(x1,y1,label='G changing off')\n",
    "# plt.plot(x2,y2,label='G changing on')\n",
    "# plt.legend()\n",
    "# plt.xlabel('Displacement (m)')\n",
    "# plt.ylabel('Altitude (m)')\n",
    "\n",
    "#======================================\n",
    "# Battleship\n",
    "# ==========================================================================\n",
    "# DISCLAIMER: This only works if ytarget = 0\n",
    "# DISCLAIMER: Will have to modify the code to account for ytarget != 0 cases\n",
    "# ==========================================================================\n",
    "# Hit the target at this position\n",
    "xtarget = 800\n",
    "ytarget = 0 # currently ignored by the code\n",
    "\n",
    "# How far does the canon go?\n",
    "def canon_range(v0,theta):\n",
    "    # Compute trajectory\n",
    "    x, y = projectile(v0,theta,True,True)\n",
    "    # Return the range\n",
    "    return np.max(x)\n",
    "\n",
    "# Initial velocity and stepsize in velocity\n",
    "v0 = 0\n",
    "dv0 = 10\n",
    "# Check all angles between 0 and 90 degrees in small steps\n",
    "Nsteps = 100\n",
    "theta = np.linspace(0,90,Nsteps)\n",
    "# Keep the values for range in this array\n",
    "x_range = np.zeros(Nsteps)\n",
    "target_missed = True\n",
    "while target_missed:\n",
    "    # Increase velocity if you fall short\n",
    "    v0 += dv0\n",
    "    for i in range(Nsteps):\n",
    "        # For fixed initial velocity compute range for all values of theta\n",
    "        x_range[i] = canon_range(v0,theta[i])\n",
    "    #print(x_range)\n",
    "    # Is target somewhere between maximum an minimum ranges for this v0?\n",
    "    if xtarget > np.min(x_range) and xtarget < np.max(x_range):\n",
    "        target_missed = False\n",
    "    \n",
    "# Return the value that was closest to the target \n",
    "# I copied this from https://stackoverflow.com/questions/2566412/find-nearest-value-in-numpy-array\n",
    "idx = (np.abs(x_range - xtarget)).argmin()\n",
    "print('velocity is:', v0)\n",
    "print('angle is:', theta[idx])\n",
    "\n",
    "# Now plot to make sure it looks right\n",
    "[x,y] = projectile(v0, theta[idx], True, True)\n",
    "plt.plot(x,y)\n",
    "plt.plot(xtarget, ytarget, '*',markersize=16)"
   ]
  },
  {
   "cell_type": "code",
   "execution_count": null,
   "metadata": {
    "collapsed": true
   },
   "outputs": [],
   "source": []
  }
 ],
 "metadata": {
  "kernelspec": {
   "display_name": "Python 2",
   "language": "python",
   "name": "python2"
  },
  "language_info": {
   "codemirror_mode": {
    "name": "ipython",
    "version": 2
   },
   "file_extension": ".py",
   "mimetype": "text/x-python",
   "name": "python",
   "nbconvert_exporter": "python",
   "pygments_lexer": "ipython2",
   "version": "2.7.14"
  }
 },
 "nbformat": 4,
 "nbformat_minor": 2
}
