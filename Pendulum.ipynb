{
 "cells": [
  {
   "cell_type": "code",
   "execution_count": 112,
   "metadata": {},
   "outputs": [
    {
     "data": {
      "text/plain": [
       "Text(0,0.5,'Theta')"
      ]
     },
     "execution_count": 112,
     "metadata": {},
     "output_type": "execute_result"
    },
    {
     "data": {
      "image/png": "[encoded data removed]",
      "text/plain": [
       "<Figure size 432x288 with 1 Axes>"
      ]
     },
     "metadata": {},
     "output_type": "display_data"
    }
   ],
   "source": [
    "import numpy as np\n",
    "import matplotlib.pyplot as plt\n",
    "%matplotlib inline\n",
    "\n",
    "#Definitons\n",
    "def SmallAngleApprox(g,L,Theta):\n",
    "    ATheta = -(g/L)*Theta\n",
    "    return ATheta\n",
    "def Pendulum(g,L,q,Theta,VTheta):\n",
    "    ATheta = -(g/L)*np.sin(Theta)-q*VTheta\n",
    "    return ATheta\n",
    "\n",
    "#Initial Conditions\n",
    "L = 100\n",
    "g = 9.8\n",
    "q = 0.1\n",
    "to = 0.0\n",
    "ti = 0\n",
    "tf = 100\n",
    "Steps = 10000\n",
    "\n",
    "#Initial Position for Pendulum\n",
    "Theta = np.deg2rad(85)\n",
    "VTheta = 0.0\n",
    "ATheta = -g/L\n",
    "\n",
    "#Initial Position for Small Angle Approximation\n",
    "Theta2 = np.deg2rad(85)\n",
    "VTheta2 = 0.0\n",
    "ATheta2 = -g/L\n",
    "\n",
    "#Initializing arrays to store data\n",
    "Theta_array = np.array([Theta])\n",
    "VTheta_array = np.array([VTheta])\n",
    "Theta_array2 = np.array([Theta2])\n",
    "VTheta_array2 = np.array([VTheta2])\n",
    "t_array = np.array([to])\n",
    "T_array = np.array([0.0])\n",
    "\n",
    "\n",
    "#ThetaI_array = np.array([0])\n",
    "#Frequency_array = np.array([0.0])\n",
    "\n",
    "#setting up time incriments\n",
    "t = np.linspace(ti,tf,Steps+1)\n",
    "dt = (tf - ti)/Steps\n",
    "\n",
    "#for j in range(1,89):\n",
    "#    Theta = np.deg2rad(i)\n",
    "#    ThetaI_array = np.append(ThetaI_array,Theta)\n",
    "#Loop to compute derivitive\n",
    "for i in range(1,Steps):\n",
    "    #Numerically Computing Pendulum Derivitives\n",
    "    ATheta = Pendulum(g,L,q,Theta,VTheta)\n",
    "    Theta = Theta + VTheta*dt\n",
    "    VTheta = VTheta + ATheta*dt\n",
    "\n",
    "    #Appending Values to arrays\n",
    "    Theta_array = np.append(Theta_array,Theta)\n",
    "    VTheta_array = np.append(VTheta_array,VTheta)\n",
    "\n",
    "    #Numerically Computing Small Angle Aprrox. Derivitives\n",
    "    ATheta2 = SmallAngleApprox(g,L,Theta)\n",
    "    Theta2 = Theta2 + VTheta2*dt\n",
    "    VTheta2 = VTheta2 + ATheta2*dt\n",
    "\n",
    "    #Appending values to arrays\n",
    "    Theta_array2 = np.append(Theta_array2,Theta2)\n",
    "    VTheta_array2 = np.append(VTheta_array2,VTheta2)\n",
    "    t_array = np.append(t_array,(i)*dt)\n",
    "\n",
    "    #Find the Period\n",
    "    val1 = Theta_array[i]\n",
    "    val2 = Theta_array[i-1]\n",
    "    if(val1<=0.0 and val2>=0.0):\n",
    "        T_array = np.append(T_array,(i)*dt)\n",
    "            \n",
    "#Period = T_array[2]-T_array[1]\n",
    "#Frequency = 1/Period\n",
    "#Frequency_array = np.append(Frequency_array,Frequency)\n",
    "\n",
    "#Plotting solutions on graph\n",
    "plt.figure()\n",
    "plt.plot(t_array,Theta_array,'r-')\n",
    "#plt.plot(t_array,Theta_array2,'b-')\n",
    "plt.title('Pendulum')\n",
    "plt.xlabel('Time')\n",
    "plt.ylabel('Theta')\n",
    "\n",
    "\n",
    "\n",
    "    \n"
   ]
  },
  {
   "cell_type": "code",
   "execution_count": null,
   "metadata": {},
   "outputs": [],
   "source": []
  },
  {
   "cell_type": "code",
   "execution_count": null,
   "metadata": {},
   "outputs": [],
   "source": []
  }
 ],
 "metadata": {
  "kernelspec": {
   "display_name": "Python 3",
   "language": "python",
   "name": "python3"
  },
  "language_info": {
   "codemirror_mode": {
    "name": "ipython",
    "version": 3
   },
   "file_extension": ".py",
   "mimetype": "text/x-python",
   "name": "python",
   "nbconvert_exporter": "python",
   "pygments_lexer": "ipython3",
   "version": "3.6.5"
  }
 },
 "nbformat": 4,
 "nbformat_minor": 2
}
