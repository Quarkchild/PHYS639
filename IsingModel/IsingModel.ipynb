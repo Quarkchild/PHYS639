{
 "cells": [
  {
   "cell_type": "code",
   "execution_count": null,
   "metadata": {
    "collapsed": true
   },
   "outputs": [],
   "source": [
    "import numpy as np\n",
    "import Tkinter as tk\n",
    "import time"
   ]
  },
  {
   "cell_type": "code",
   "execution_count": null,
   "metadata": {
    "collapsed": true
   },
   "outputs": [],
   "source": [
    "# Decide whether or not to flip the spin based on temperature (T), external magnetic field (B), and neighbourhood.\n",
    "def flip_spin(i, j, T, B):\n",
    "    # Neighbours are one step in each direction.\n",
    "    # Unless you are on the boundary, in which case one neihgbour is missing (two if you are in a corner)\n",
    "    if i == 0:\n",
    "        s1 = 0\n",
    "    else:\n",
    "        s1 = spins[i-1,j]\n",
    "    if i == Ngrid - 1:\n",
    "        s2 = 0\n",
    "    else:\n",
    "        s2 = spins[i+1,j]\n",
    "    if j == 0:\n",
    "        s3 = 0\n",
    "    else:\n",
    "        s3 = spins[i,j-1]\n",
    "    if j == Ngrid - 1:\n",
    "        s4 = 0\n",
    "    else:\n",
    "        s4 = spins[i,j+1]\n",
    "    # Initial and final energies of interaction with neighbours (first term) and the external magnetic field (second term)\n",
    "    Eini = -(s1 + s2 + s3 + s4)*spins[i,j] - spins[i,j]*B\n",
    "    Efin = -Eini\n",
    "    # If final energy lower always flip\n",
    "    if Eini > Efin:\n",
    "        return True\n",
    "    # If not it's more complicated\n",
    "    else:\n",
    "        # Flip based on this probability\n",
    "        prob_no_flip = np.exp(-(Efin - Eini)/T)\n",
    "        prob = np.random.rand()\n",
    "        if prob < prob_no_flip:\n",
    "            return True\n",
    "        else:\n",
    "            return False"
   ]
  },
  {
   "cell_type": "code",
   "execution_count": null,
   "metadata": {},
   "outputs": [],
   "source": [
    "# grid size\n",
    "Ngrid = 80\n",
    "# matrix for spins\n",
    "spins = np.random.choice([-1, 1], (Ngrid, Ngrid))\n",
    "# Temperature. Don't set to exactly zero because the exponential in flip_spin function may misbehave\n",
    "T = 0.0001\n",
    "# Strength of external magnetic field\n",
    "B = 0\n",
    "\n",
    "# Creating a window to draw on\n",
    "master = tk.Tk()\n",
    "window = tk.Canvas(master, width = 800, height = 800)\n",
    "window.pack()\n",
    "\n",
    "# Coordinates and the radius of circles representing particles on the animation\n",
    "x = np.linspace(0, 800, Ngrid)\n",
    "y = np.linspace(0, 800, Ngrid)\n",
    "r_oval = 10\n",
    "# We need Ngrid*Ngrid circles \n",
    "ovals = [[[] for i in range(Ngrid)] for j in range(Ngrid)]\n",
    "\n",
    "# Random initial conditions\n",
    "# red means spin up (+1) blue means spin down (-1)\n",
    "for i in range(Ngrid):\n",
    "    for j in range(Ngrid):\n",
    "        if spins[i,j] == 1:\n",
    "            color = 'red'\n",
    "        else:\n",
    "            color = 'blue'\n",
    "        # Draw \n",
    "        ovals[i][j] = window.create_oval(x[i], y[j], x[i] + r_oval, y[j] + r_oval, fill=color)\n",
    "\n",
    "# Number of steps for simulation\n",
    "Nsteps = 10000000\n",
    "for i in range(Nsteps):\n",
    "    # Randomly choose a particle\n",
    "    i_rand = np.random.randint(Ngrid)\n",
    "    j_rand = np.random.randint(Ngrid)\n",
    "    # Decide whether or not to flip its spin\n",
    "    if flip_spin(i_rand,j_rand,T,B) == True:\n",
    "        spins[i_rand,j_rand] = -spins[i_rand,j_rand]\n",
    "        # Delete old sphere\n",
    "        window.delete(ovals[i_rand][j_rand])\n",
    "        if spins[i_rand,j_rand] == 1:\n",
    "            color = 'red'\n",
    "        else:\n",
    "            color = 'blue'\n",
    "        # Redraw with updated color\n",
    "        ovals[i_rand][j_rand] = window.create_oval(x[i_rand], y[j_rand], x[i_rand] + r_oval, y[j_rand] + r_oval, fill=color)\n",
    "    master.update()\n",
    "master.mainloop()"
   ]
  }
 ],
 "metadata": {
  "kernelspec": {
   "display_name": "Python 2",
   "language": "python",
   "name": "python2"
  },
  "language_info": {
   "codemirror_mode": {
    "name": "ipython",
    "version": 2
   },
   "file_extension": ".py",
   "mimetype": "text/x-python",
   "name": "python",
   "nbconvert_exporter": "python",
   "pygments_lexer": "ipython2",
   "version": "2.7.14"
  }
 },
 "nbformat": 4,
 "nbformat_minor": 2
}
