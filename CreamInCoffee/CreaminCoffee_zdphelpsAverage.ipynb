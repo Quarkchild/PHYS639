{
 "cells": [
  {
   "cell_type": "code",
   "execution_count": 14,
   "metadata": {},
   "outputs": [
    {
     "data": {
      "text/plain": [
       "[<matplotlib.lines.Line2D at 0x7f1cba6ba128>]"
      ]
     },
     "execution_count": 14,
     "metadata": {},
     "output_type": "execute_result"
    },
    {
     "data": {
      "image/png": "[encoded data removed]",
      "text/plain": [
       "<Figure size 432x288 with 1 Axes>"
      ]
     },
     "metadata": {},
     "output_type": "display_data"
    }
   ],
   "source": [
    "import numpy as np\n",
    "import numpy.random as random\n",
    "import matplotlib.pyplot as plt\n",
    "%matplotlib inline\n",
    "\n",
    "#function that simulates random diffusion box with hole and returns average value of particles in the hole\n",
    "def diffusion(N,Ngrid,max,Hole):\n",
    "    #conditional function for hole in box\n",
    "    def hole(i,positionx,positiony,grid,move,count):\n",
    "        if(positionx[i] == -(grid) and positiony[i] >= -(grid*0.2) and positiony[i] <= (grid*0.2)):\n",
    "            return 0\n",
    "        else:\n",
    "            return move\n",
    "    #initial conditions\n",
    "    Run = True\n",
    "    a = 0\n",
    "    position_x = np.zeros(N)\n",
    "    position_y = np.zeros(N)\n",
    "    Harray = np.array([0])\n",
    "    #loop for number of times particles move (also time incrament)\n",
    "    while(Run == True):\n",
    "        Hcount = 0\n",
    "        #loop that moves the individual particles\n",
    "        for i in range(N):\n",
    "            #determines random move\n",
    "            move = random.choice([-1,1])\n",
    "            axis = random.choice([0,1])\n",
    "\n",
    "            #checks to see if there is a hole in the box\n",
    "            if(Hole==True):\n",
    "                move = hole(i,position_x,position_y,Ngrid,move,Hcount)\n",
    "                if(move == 0):\n",
    "                    Hcount += 1\n",
    "\n",
    "            #updates position and checks to see if particle is on the edge   \n",
    "            if((position_x[i]+move) > Ngrid):\n",
    "                move = 0\n",
    "            elif((position_x[i]+move) < -(Ngrid)):\n",
    "                move = 0\n",
    "            elif(axis == 0):\n",
    "                position_x[i] += move\n",
    "            elif((position_y[i]+move) > Ngrid):\n",
    "                move = 0\n",
    "            elif((position_y[i]+move) < -(Ngrid)):\n",
    "                move = 0\n",
    "            else:\n",
    "                position_y[i] += move\n",
    "        #updates movement counter\n",
    "        a += 1\n",
    "        Harray = np.append(Harray,Hcount)\n",
    "        #movement counter\n",
    "        if(a >= max):\n",
    "            Run = False\n",
    "    #plots each individual random distribution (for checking errors)\n",
    "    #plt.figure()\n",
    "    #plt.plot(position_x,position_y,'.')\n",
    "    \n",
    "    #computes average # of paricles in the hole\n",
    "    val1 = np.sum(Harray)\n",
    "    val2 = len(Harray)\n",
    "    val = val1/val2\n",
    "    return val\n",
    "#array of average values\n",
    "Average_array = np.zeros(50)\n",
    "#change the array values to the average value \n",
    "for i in range(50):\n",
    "    N = 50\n",
    "    Ngrid = 20\n",
    "    AverageTime = (i+1)*100\n",
    "    Hole = True\n",
    "    Average_array[i] = diffusion(N,Ngrid,AverageTime,Hole)\n",
    "    \n",
    "    \n",
    "#plots number of particles in the hole vs time \"# of movements\"\n",
    "\n",
    "plt.figure()\n",
    "plt.plot(Average_array)\n",
    "  "
   ]
  },
  {
   "cell_type": "code",
   "execution_count": null,
   "metadata": {},
   "outputs": [],
   "source": []
  },
  {
   "cell_type": "code",
   "execution_count": null,
   "metadata": {},
   "outputs": [],
   "source": []
  },
  {
   "cell_type": "code",
   "execution_count": null,
   "metadata": {},
   "outputs": [],
   "source": []
  }
 ],
 "metadata": {
  "kernelspec": {
   "display_name": "Python 3",
   "language": "python",
   "name": "python3"
  },
  "language_info": {
   "codemirror_mode": {
    "name": "ipython",
    "version": 3
   },
   "file_extension": ".py",
   "mimetype": "text/x-python",
   "name": "python",
   "nbconvert_exporter": "python",
   "pygments_lexer": "ipython3",
   "version": "3.6.5"
  }
 },
 "nbformat": 4,
 "nbformat_minor": 2
}
