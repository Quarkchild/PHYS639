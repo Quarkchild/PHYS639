{
 "cells": [
  {
   "cell_type": "code",
   "execution_count": 2,
   "metadata": {},
   "outputs": [
    {
     "name": "stdout",
     "output_type": "stream",
     "text": [
      "26\n"
     ]
    },
    {
     "data": {
      "text/plain": [
       "[<matplotlib.lines.Line2D at 0x7f4c0d988da0>]"
      ]
     },
     "execution_count": 2,
     "metadata": {},
     "output_type": "execute_result"
    },
    {
     "data": {
      "image/png": "[encoded data removed]",
      "text/plain": [
       "<Figure size 432x288 with 1 Axes>"
      ]
     },
     "metadata": {},
     "output_type": "display_data"
    },
    {
     "data": {
      "image/png": "[encoded data removed]",
      "text/plain": [
       "<Figure size 432x288 with 1 Axes>"
      ]
     },
     "metadata": {},
     "output_type": "display_data"
    }
   ],
   "source": [
    "import numpy as np\n",
    "import numpy.random as random\n",
    "import matplotlib.pyplot as plt\n",
    "%matplotlib inline\n",
    "\n",
    "#conditional function for hole in box\n",
    "def hole(i,positionx,positiony,grid,move,count):\n",
    "    if(positionx[i] == -(grid) and positiony[i] >= -(grid*0.2) and positiony[i] <= (grid*0.2)):\n",
    "        return 0\n",
    "    else:\n",
    "        return move\n",
    "#initial conditions\n",
    "Run = True\n",
    "a = 0\n",
    "N = 100\n",
    "position_x = np.zeros(N)\n",
    "position_y = np.zeros(N)\n",
    "Hole = True\n",
    "Harray = np.array([0])\n",
    "#loop for number of times particles move (also time incrament)\n",
    "while(Run == True):\n",
    "    Ngrid = 20\n",
    "    Hcount = 0\n",
    "    #loop that moves the individual particles\n",
    "    for i in range(N):\n",
    "        #determines random move\n",
    "        move = random.choice([-1,1])\n",
    "        axis = random.choice([0,1])\n",
    "        \n",
    "        #checks to see if there is a hole in the box\n",
    "        if(Hole==True):\n",
    "            move = hole(i,position_x,position_y,Ngrid,move,Hcount)\n",
    "            if(move == 0):\n",
    "                Hcount += 1\n",
    "        \n",
    "        #updates position and checks to see if particle is on the edge   \n",
    "        if((position_x[i]+move) > Ngrid):\n",
    "            move = 0\n",
    "        elif((position_x[i]+move) < -(Ngrid)):\n",
    "            move = 0\n",
    "        elif(axis == 0):\n",
    "            position_x[i] += move\n",
    "        elif((position_y[i]+move) > Ngrid):\n",
    "            move = 0\n",
    "        elif((position_y[i]+move) < -(Ngrid)):\n",
    "            move = 0\n",
    "        else:\n",
    "            position_y[i] += move\n",
    "    #updates movement counter\n",
    "    a += 1\n",
    "    Harray = np.append(Harray,Hcount)\n",
    "    #movement counter\n",
    "    if(a >= 1000):\n",
    "        Run = False\n",
    "#plots x and y position of particles\n",
    "plt.figure()\n",
    "plt.plot(position_x,position_y,'.')\n",
    "print(Hcount)\n",
    "#plots the number of particles that have exited through the hole vs. time\n",
    "plt.figure()\n",
    "plt.plot(Harray)\n",
    "    "
   ]
  },
  {
   "cell_type": "code",
   "execution_count": null,
   "metadata": {},
   "outputs": [],
   "source": []
  },
  {
   "cell_type": "code",
   "execution_count": null,
   "metadata": {},
   "outputs": [],
   "source": []
  }
 ],
 "metadata": {
  "kernelspec": {
   "display_name": "Python 3",
   "language": "python",
   "name": "python3"
  },
  "language_info": {
   "codemirror_mode": {
    "name": "ipython",
    "version": 3
   },
   "file_extension": ".py",
   "mimetype": "text/x-python",
   "name": "python",
   "nbconvert_exporter": "python",
   "pygments_lexer": "ipython3",
   "version": "3.6.5"
  }
 },
 "nbformat": 4,
 "nbformat_minor": 2
}
