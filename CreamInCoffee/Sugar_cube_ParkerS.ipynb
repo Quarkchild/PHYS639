{
 "cells": [
  {
   "cell_type": "code",
   "execution_count": null,
   "metadata": {
    "scrolled": true
   },
   "outputs": [],
   "source": [
    "#created by Parker Stoops\n",
    "#\n",
    "#\n",
    "#201x201 grid with the intial particle being at the center\n",
    "#\n",
    "\n",
    "\n",
    "import numpy as np\n",
    "import numpy.random as random\n",
    "import matplotlib.pyplot as plt\n",
    "\n",
    "\n",
    "part=350 # number of particles\n",
    "grid=151\n",
    "steps=10000000\n",
    "x=np.zeros(part)\n",
    "y=np.zeros(part)\n",
    "x2=[]\n",
    "\n",
    "\n",
    "for i in range(steps):\n",
    "    part_sel= random.randint(part)\n",
    "    direction = random.randint(4)\n",
    "    if part_sel not in x2:\n",
    "        \n",
    "        if direction == 0 and x[part_sel] >= -grid/2:\n",
    "            x[part_sel] -=2\n",
    "        if direction == 1 and x[part_sel] <= grid/2:\n",
    "            x[part_sel] +=2\n",
    "        if direction == 2 and y[part_sel] >= -grid/2:\n",
    "            y[part_sel] -=2\n",
    "        if direction == 3 and y[part_sel] <= grid/2:\n",
    "            y[part_sel] +=2\n",
    "        if x[part_sel] <= -grid/2 and direction == 0 and y[part_sel] >= -20 and y[part_sel] <= 30:\n",
    "            x[part_sel] -=2\n",
    "        if x[part_sel] < -grid/2:\n",
    "            x2.append(part_sel)\n",
    "            np.delete(x,part_sel)\n",
    "            np.delete(y,part_sel)\n",
    "    if i%2000000==0:\n",
    "        plt.figure(i/2000000)\n",
    "        plt.plot(x,y,'.')\n",
    "        plt.axis([-100,100,-100,100],'equal')\n"
   ]
  },
  {
   "cell_type": "code",
   "execution_count": null,
   "metadata": {},
   "outputs": [],
   "source": []
  }
 ],
 "metadata": {
  "kernelspec": {
   "display_name": "Python 3",
   "language": "python",
   "name": "python3"
  },
  "language_info": {
   "codemirror_mode": {
    "name": "ipython",
    "version": 3
   },
   "file_extension": ".py",
   "mimetype": "text/x-python",
   "name": "python",
   "nbconvert_exporter": "python",
   "pygments_lexer": "ipython3",
   "version": "3.6.5"
  }
 },
 "nbformat": 4,
 "nbformat_minor": 2
}
